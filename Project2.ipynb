{
 "cells": [
  {
   "cell_type": "code",
   "execution_count": 1,
   "id": "701da27f-3935-4361-bb55-ad64f81a7e7f",
   "metadata": {},
   "outputs": [],
   "source": [
    "#Import the packages that I will use \n",
    "import os\n",
    "import json\n",
    "import numpy as np\n",
    "import pandas as pd\n",
    "import pprint \n",
    "import mysql.connector\n",
    "import pymysql\n",
    "from sqlalchemy import create_engine\n",
    "import matplotlib.pyplot as plt\n",
    "import requests\n",
    "import datetime\n",
    "import schedule\n",
    "import time"
   ]
  },
  {
   "cell_type": "code",
   "execution_count": 2,
   "id": "b42864e9-afe1-444e-8fe8-bef822f6fe52",
   "metadata": {},
   "outputs": [
    {
     "name": "stdout",
     "output_type": "stream",
     "text": [
      "Database 'project2database' dropped successfully!\n",
      "Database 'project2database' created successfully!\n"
     ]
    }
   ],
   "source": [
    "# Database Creation: \n",
    "# I first connect to a MySQL database, drops a database named 'project2database' (if it exists), and then creates it again.\n",
    "connection = mysql.connector.connect(\n",
    "    host=\"localhost\",\n",
    "    user=\"root\",\n",
    "    password=\"Uva!1819\",\n",
    "    port=\"3306\"\n",
    ")\n",
    "\n",
    "cursor = connection.cursor()\n",
    "\n",
    "database_drop = 'project2database'\n",
    "try:\n",
    "    cursor.execute(f\"DROP DATABASE {database_drop}\")\n",
    "    print(f\"Database '{database_drop}' dropped successfully!\")\n",
    "except mysql.connector.Error as err:\n",
    "    print(f\"Error: {err}\")\n",
    "\n",
    "try:\n",
    "    cursor.execute(\"CREATE DATABASE project2database\")\n",
    "    print(\"Database 'project2database' created successfully!\")\n",
    "except mysql.connector.Error as err:\n",
    "    print(f\"Error: {err}\")\n",
    "finally:\n",
    "    cursor.close()\n",
    "    connection.close()"
   ]
  },
  {
   "cell_type": "code",
   "execution_count": 3,
   "id": "c78dfc7f-dee9-400b-b8fb-35843ad020a1",
   "metadata": {},
   "outputs": [
    {
     "name": "stdout",
     "output_type": "stream",
     "text": [
      "Table 'api_data' created successfully!\n"
     ]
    }
   ],
   "source": [
    "#Then I create the SQL database that will house all the data from the api call\n",
    "def create_table():\n",
    "    connection = mysql.connector.connect(\n",
    "        host=\"localhost\",\n",
    "        user=\"root\",\n",
    "        password=\"Uva!1819\",\n",
    "        database=\"project2database\",\n",
    "        port=\"3306\"\n",
    "    )\n",
    "    cursor = connection.cursor()\n",
    "    cursor.execute(\"\"\"\n",
    "        CREATE TABLE IF NOT EXISTS api_data (\n",
    "            id INT AUTO_INCREMENT PRIMARY KEY,\n",
    "            factor INT,\n",
    "            pi DOUBLE,\n",
    "            time DATETIME\n",
    "        )\n",
    "    \"\"\")\n",
    "    print(\"Table 'api_data' created successfully!\")\n",
    "    cursor.close()\n",
    "    connection.close()\n",
    "\n",
    "create_table()\n"
   ]
  },
  {
   "cell_type": "code",
   "execution_count": null,
   "id": "bc38ab40-cf91-40f6-8034-8251003d2b48",
   "metadata": {},
   "outputs": [],
   "source": [
    "#fetch_data_from_api is a function that makes an HTTP GET request to the API URL. If the request is successful (status_code == 200), it returns the JSON response; otherwise, it prints an error message. \n",
    "def fetch_data_from_api():\n",
    "    api_url = \"https://4feaquhyai.execute-api.us-east-1.amazonaws.com/api/pi\"\n",
    "    response = requests.get(api_url)\n",
    "    if response.status_code == 200:\n",
    "        return response.json()\n",
    "    else:\n",
    "        print(f\"Failed to fetch data: Status code {response.status_code}\")\n",
    "        return None\n",
    "#I then insert the data from the call into the sql table I made in my dataset\n",
    "def insert_data_to_database(data):\n",
    "    query = \"INSERT INTO api_data (factor, pi, time) VALUES (%s, %s, %s)\"\n",
    "    values = (data['factor'], data['pi'], data['time'])\n",
    "\n",
    "\n",
    "    connection = pymysql.connect(host='localhost', user='root', password='Uva!1819', database='project2database')\n",
    "    cursor = connection.cursor()\n",
    "    try:\n",
    "        cursor.execute(query, values)\n",
    "        connection.commit()\n",
    "    except Exception as e:\n",
    "        print(f\"An error occurred while inserting data: {e}\")\n",
    "    finally:\n",
    "        cursor.close()\n",
    "        connection.close()\n",
    "\n",
    "\n",
    "#next_run_time calculates the start of the next minute based on the current system time. This is used to schedule tasks at the start of each minute.\n",
    "def next_run_time():\n",
    " \n",
    "    now = datetime.datetime.now()\n",
    "    return now.replace(second=0, microsecond=0) + datetime.timedelta(minutes=1)\n",
    "#scheduled_job fetches data from the API using fetch_data_from_api and, if successful, inserts the data into the database using insert_data_to_database\n",
    "def scheduled_job():\n",
    "    data = fetch_data_from_api()\n",
    "    if data:\n",
    "        insert_data_to_database(data)\n",
    "#run_for_an_hour runs a loop that continues for one hour. Inside the loop, it checks if the current time has reached or passed the next_run time. If so, it executes scheduled_job and recalculates the next_run time.\n",
    "\n",
    "\n",
    "def run_for_an_hour():\n",
    "    now = datetime.datetime.now()\n",
    "    start_time = now.replace(minute=0, second=0, microsecond=0)\n",
    "    if now.minute > 0 or now.second > 0 or now.microsecond > 0:\n",
    "        start_time = start_time + datetime.timedelta(hours=1)\n",
    "    end_time = start_time + datetime.timedelta(hours=1)\n",
    "    while datetime.datetime.now() < start_time:\n",
    "        pass  \n",
    "    next_run = start_time\n",
    "    while datetime.datetime.now() < end_time:\n",
    "        current_time = datetime.datetime.now()\n",
    "        if current_time >= next_run:\n",
    "            scheduled_job()\n",
    "            next_run = current_time.replace(second=0, microsecond=0) + datetime.timedelta(minutes=1)\n",
    "\n",
    "    print(\"Execution completed. Exiting after 60 minutes.\")\n",
    "\n",
    "#This is the main entry point of the script. When the script is executed, it calls run_for_an_hour to start the process.\n",
    "if __name__ == \"__main__\":\n",
    "    run_for_an_hour()\n",
    "\n"
   ]
  },
  {
   "cell_type": "code",
   "execution_count": null,
   "id": "823b3644-4b89-4b1e-81af-87955dd6fc18",
   "metadata": {},
   "outputs": [],
   "source": [
    "#The data trend shows that cubing each minute of a timestamp (starting from 1^3 at 00 minutes to 59^3 at 59 minutes) is used to approximate π (Pi). The approximations become increasingly accurate as the cube values grow larger with each passing minute. The most precise approximation of π occurs at the 59-minute mark, highlighting a clear correlation between the magnitude of the cube root and the accuracy of the π approximation. "
   ]
  },
  {
   "cell_type": "code",
   "execution_count": null,
   "id": "edde3dc3-7f12-44d1-85c0-c684c8a9f679",
   "metadata": {},
   "outputs": [],
   "source": []
  },
  {
   "cell_type": "code",
   "execution_count": null,
   "id": "74902c59-da7b-4e03-8f4a-5608a3a6dad8",
   "metadata": {},
   "outputs": [],
   "source": []
  }
 ],
 "metadata": {
  "kernelspec": {
   "display_name": "Python 3 (ipykernel)",
   "language": "python",
   "name": "python3"
  },
  "language_info": {
   "codemirror_mode": {
    "name": "ipython",
    "version": 3
   },
   "file_extension": ".py",
   "mimetype": "text/x-python",
   "name": "python",
   "nbconvert_exporter": "python",
   "pygments_lexer": "ipython3",
   "version": "3.8.16"
  }
 },
 "nbformat": 4,
 "nbformat_minor": 5
}
